{
 "cells": [
  {
   "cell_type": "code",
   "execution_count": 1,
   "id": "199dc9d7",
   "metadata": {},
   "outputs": [
    {
     "name": "stdout",
     "output_type": "stream",
     "text": [
      "Requirement already satisfied: selenium in c:\\users\\avish\\anaconda3\\lib\\site-packages (4.12.0)\n",
      "Requirement already satisfied: urllib3[socks]<3,>=1.26 in c:\\users\\avish\\anaconda3\\lib\\site-packages (from selenium) (1.26.16)\n",
      "Requirement already satisfied: trio~=0.17 in c:\\users\\avish\\anaconda3\\lib\\site-packages (from selenium) (0.22.2)\n",
      "Requirement already satisfied: trio-websocket~=0.9 in c:\\users\\avish\\anaconda3\\lib\\site-packages (from selenium) (0.10.4)\n",
      "Requirement already satisfied: certifi>=2021.10.8 in c:\\users\\avish\\anaconda3\\lib\\site-packages (from selenium) (2023.7.22)\n",
      "Requirement already satisfied: attrs>=20.1.0 in c:\\users\\avish\\anaconda3\\lib\\site-packages (from trio~=0.17->selenium) (22.1.0)\n",
      "Requirement already satisfied: sortedcontainers in c:\\users\\avish\\anaconda3\\lib\\site-packages (from trio~=0.17->selenium) (2.4.0)\n",
      "Requirement already satisfied: idna in c:\\users\\avish\\anaconda3\\lib\\site-packages (from trio~=0.17->selenium) (3.4)\n",
      "Requirement already satisfied: outcome in c:\\users\\avish\\anaconda3\\lib\\site-packages (from trio~=0.17->selenium) (1.2.0)\n",
      "Requirement already satisfied: sniffio in c:\\users\\avish\\anaconda3\\lib\\site-packages (from trio~=0.17->selenium) (1.2.0)\n",
      "Requirement already satisfied: cffi>=1.14 in c:\\users\\avish\\anaconda3\\lib\\site-packages (from trio~=0.17->selenium) (1.15.1)\n",
      "Requirement already satisfied: exceptiongroup in c:\\users\\avish\\anaconda3\\lib\\site-packages (from trio-websocket~=0.9->selenium) (1.1.3)\n",
      "Requirement already satisfied: wsproto>=0.14 in c:\\users\\avish\\anaconda3\\lib\\site-packages (from trio-websocket~=0.9->selenium) (1.2.0)\n",
      "Requirement already satisfied: PySocks!=1.5.7,<2.0,>=1.5.6 in c:\\users\\avish\\anaconda3\\lib\\site-packages (from urllib3[socks]<3,>=1.26->selenium) (1.7.1)\n",
      "Requirement already satisfied: pycparser in c:\\users\\avish\\anaconda3\\lib\\site-packages (from cffi>=1.14->trio~=0.17->selenium) (2.21)\n",
      "Requirement already satisfied: h11<1,>=0.9.0 in c:\\users\\avish\\anaconda3\\lib\\site-packages (from wsproto>=0.14->trio-websocket~=0.9->selenium) (0.14.0)\n",
      "Requirement already satisfied: webdriver_manager in c:\\users\\avish\\anaconda3\\lib\\site-packages (4.0.0)\n",
      "Requirement already satisfied: requests in c:\\users\\avish\\anaconda3\\lib\\site-packages (from webdriver_manager) (2.31.0)\n",
      "Requirement already satisfied: python-dotenv in c:\\users\\avish\\anaconda3\\lib\\site-packages (from webdriver_manager) (1.0.0)\n",
      "Requirement already satisfied: packaging in c:\\users\\avish\\anaconda3\\lib\\site-packages (from webdriver_manager) (23.0)\n",
      "Requirement already satisfied: charset-normalizer<4,>=2 in c:\\users\\avish\\anaconda3\\lib\\site-packages (from requests->webdriver_manager) (2.0.4)\n",
      "Requirement already satisfied: idna<4,>=2.5 in c:\\users\\avish\\anaconda3\\lib\\site-packages (from requests->webdriver_manager) (3.4)\n",
      "Requirement already satisfied: urllib3<3,>=1.21.1 in c:\\users\\avish\\anaconda3\\lib\\site-packages (from requests->webdriver_manager) (1.26.16)\n",
      "Requirement already satisfied: certifi>=2017.4.17 in c:\\users\\avish\\anaconda3\\lib\\site-packages (from requests->webdriver_manager) (2023.7.22)\n"
     ]
    }
   ],
   "source": [
    "!pip install selenium\n",
    "!pip3 install webdriver_manager"
   ]
  },
  {
   "cell_type": "code",
   "execution_count": 4,
   "id": "bd9a2828",
   "metadata": {},
   "outputs": [
    {
     "name": "stderr",
     "output_type": "stream",
     "text": [
      "C:\\Users\\avish\\AppData\\Local\\Temp\\ipykernel_20240\\2944475637.py:17: DeprecationWarning: Firefox will soon stop logging to geckodriver.log by default; Specify desired logs with log_output\n",
      "  driver = webdriver.Firefox(service=Service(GeckoDriverManager().install()), options=firefox_options)\n"
     ]
    },
    {
     "name": "stdout",
     "output_type": "stream",
     "text": [
      "['Diana Mae Fernandez', 'Jonathan Larmore, et al.', 'Laura Tyler Perryman', 'Dozy Mmobuosi, et al.', 'Agridime LLC, Joshua Link, and Jed Wood', 'Dozy Mmobuosi, et al.', 'Titanium Capital LLC; Henry Abdo; Carol Ann Barsh', 'Justin Murphy and Mara Investments LLC', 'David Blaszczak, et al.', 'GPB Capital Holdings LLC']\n"
     ]
    }
   ],
   "source": [
    "from bs4 import BeautifulSoup as bs\n",
    "from selenium import webdriver\n",
    "from selenium.webdriver.firefox.options import Options\n",
    "from selenium.webdriver.common.by import By\n",
    "from selenium.webdriver.support.wait import WebDriverWait\n",
    "from selenium.webdriver.support import expected_conditions as EC\n",
    "from selenium.webdriver.firefox.service import Service\n",
    "from webdriver_manager.firefox import GeckoDriverManager\n",
    "import time\n",
    "\n",
    "def scrape_companies(url):\n",
    "    firefox_options = Options()\n",
    "    # firefox_options.add_argument('--headless')  # Uncomment this line if you want to run in headless mode\n",
    "    firefox_options.add_argument('--no-sandbox')\n",
    "    firefox_options.add_argument('--disable-dev-shm-usage')\n",
    "\n",
    "    driver = webdriver.Firefox(service=Service(GeckoDriverManager().install()), options=firefox_options)\n",
    "    driver.get(url)\n",
    "\n",
    "    SCROLL_PAUSE_TIME = 20\n",
    "    last_height = driver.execute_script(\"return document.body.scrollHeight\")\n",
    "\n",
    "    while True:\n",
    "        driver.execute_script(\"window.scrollTo(0, document.body.scrollHeight);\")\n",
    "        time.sleep(SCROLL_PAUSE_TIME)\n",
    "        new_height = driver.execute_script(\"return document.body.scrollHeight\")\n",
    "        if new_height == last_height:\n",
    "            break\n",
    "        last_height = new_height\n",
    "        wait = WebDriverWait(driver, 10)\n",
    "        wait.until(EC.visibility_of_element_located((By.CSS_SELECTOR, \"https://twitter.com/SECGov\")))\n",
    "\n",
    "    html = driver.page_source\n",
    "    soup = bs(html, 'html.parser')\n",
    "\n",
    "    relevant = soup.find_all('tr', class_='pr-list-page-row')\n",
    "\n",
    "    names = []\n",
    "    for li in relevant:\n",
    "        for html_class in li.find_all('div', class_=\"release-view__respondents\"):\n",
    "            org = html_class.find('a').get_text()\n",
    "            names.append(org)\n",
    "\n",
    "    driver.quit()\n",
    "    return names\n",
    "\n",
    "# List of URLs to scrape\n",
    "urls = [\n",
    "    'https://www.sec.gov/litigation/litreleases?aId=&populate=&year=2023&month=All',\n",
    "    'https://www.sec.gov/litigation/litreleases?aId=&populate=&year=2023&month=All&page=1',\n",
    "    'https://www.sec.gov/litigation/litreleases?aId=&populate=&year=2023&month=All&page=2',\n",
    "    'https://www.sec.gov/litigation/litreleases?aId=&populate=&year=2023&month=All&page=3'\n",
    "    \n",
    "    # Add more URLs here\n",
    "]\n",
    "\n",
    "# Iterate over each URL, scrape the product links, and store them in product_links\n",
    "all_names = []\n",
    "for url in urls:\n",
    "    names = scrape_companies(url)\n",
    "    all_names.extend(names)\n",
    "\n",
    "# Print the first 10 product links\n",
    "print(all_names[:10])\n"
   ]
  },
  {
   "cell_type": "code",
   "execution_count": 5,
   "id": "b87c1d9c",
   "metadata": {},
   "outputs": [],
   "source": [
    "import csv\n",
    "\n",
    "# Open the file in binary mode with UTF-8 encoding\n",
    "with open(\"SEC_litigation.csv\", \"w\", newline=\"\", encoding=\"utf-8\") as Output_File:\n",
    "    writer = csv.writer(Output_File)\n",
    "    writer.writerow([\"Companies\" ])\n",
    "\n",
    "    for x in range(0, len(all_names)):\n",
    "        writer.writerow([all_names[x]])\n"
   ]
  },
  {
   "cell_type": "code",
   "execution_count": null,
   "id": "65ce2a2e",
   "metadata": {},
   "outputs": [],
   "source": []
  }
 ],
 "metadata": {
  "kernelspec": {
   "display_name": "Python 3 (ipykernel)",
   "language": "python",
   "name": "python3"
  },
  "language_info": {
   "codemirror_mode": {
    "name": "ipython",
    "version": 3
   },
   "file_extension": ".py",
   "mimetype": "text/x-python",
   "name": "python",
   "nbconvert_exporter": "python",
   "pygments_lexer": "ipython3",
   "version": "3.11.4"
  }
 },
 "nbformat": 4,
 "nbformat_minor": 5
}
