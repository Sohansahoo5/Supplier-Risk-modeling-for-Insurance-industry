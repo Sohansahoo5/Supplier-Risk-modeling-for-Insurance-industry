{
 "cells": [
  {
   "cell_type": "code",
   "execution_count": 1,
   "id": "87907b64",
   "metadata": {},
   "outputs": [],
   "source": [
    "import pandas as pd\n",
    "import numpy as np\n",
    "from sklearn.decomposition import PCA\n",
    "from sklearn.preprocessing import StandardScaler\n",
    "import re\n",
    "\n",
    "# Read data from Excel file\n",
    "data = pd.read_excel(\"IP Dummy data - CompliancePCA.xlsx\")\n",
    "\n",
    "# Clean up column names\n",
    "data.columns = [re.sub(r'\\W+', '', col) for col in data.columns]\n",
    "\n",
    "# Separate 'Company' column and feature columns\n",
    "companies = data['Company']\n",
    "features = data.drop(columns=['Company'])\n",
    "\n",
    "# Step 1: Standardize the feature data\n",
    "scaler = StandardScaler()\n",
    "features_standardized = scaler.fit_transform(features)\n",
    "\n",
    "# Step 2: Fit the PCA model\n",
    "pca = PCA(n_components=features.shape[1])  # Set the number of components equal to the number of features\n",
    "pca.fit(features_standardized)\n",
    "\n",
    "# Step 3: Extract the principal components and their corresponding weights\n",
    "principal_components = pca.components_\n",
    "explained_variance_ratio = pca.explained_variance_ratio_\n",
    "\n",
    "# Calculate average weights for each feature\n",
    "average_weights = np.abs(principal_components).mean(axis=0) * np.sqrt(explained_variance_ratio)\n",
    "\n",
    "# Normalize weights so that the sum equals 1\n",
    "normalized_weights = average_weights / np.sum(average_weights)\n",
    "\n",
    "# Define weights for each variable based on feature importance scores\n",
    "weights = {}\n",
    "for i, column in enumerate(features.columns):\n",
    "    weights[column] = normalized_weights[i]\n",
    "\n",
    "# Define conditional mappings for compliance scoring based on variable values\n",
    "conditional_mappings = {\n",
    "    'SECEnforcementAction': lambda value: 1 if value == 0 else 0,\n",
    "    'FTCEnforcementAction': lambda value: 1 if value == 0 else 0,\n",
    "    'AnyDataBreachCasesinlast3years': lambda value: 1 if value == 0 else 0,\n",
    "    'CompliancewithDataProtectionLaws': lambda value: 0 if value == 0 else 1,\n",
    "    'ComplianceTrainingProgramsforemployees': lambda value: 0 if value == 0 else 1,\n",
    "    'IRP': lambda value: 0 if value == 0 else 1,\n",
    "    'InternalComplianceRiskAssessment': lambda value: 0 if value == 0 else 1,\n",
    "    'RiskAssessmentbyexternalAuditors': lambda value: 0 if value == 0 else 1\n",
    "}\n",
    "\n",
    "# Calculate compliance score for each company\n",
    "compliance_scores = {}\n",
    "for i, row in data.iterrows():\n",
    "    company = row['Company']\n",
    "    score = 0\n",
    "    for column in features.columns:\n",
    "        # Apply conditional mapping to adjust compliance score based on variable value\n",
    "        score += weights[column] * conditional_mappings[column](row[column])\n",
    "    # Ensure the score is a single value\n",
    "    compliance_scores[company] = score\n",
    "\n",
    "# Reverse and scale the scores\n",
    "scaled_compliance_scores = {company: (1 - score) * 100 for company, score in compliance_scores.items()}\n",
    "\n",
    "# Create a DataFrame from the scaled_compliance_scores dictionary\n",
    "scaled_compliance_scores_df = pd.DataFrame(list(scaled_compliance_scores.items()), columns=['Company', 'Scaled Compliance Score'])\n",
    "\n",
    "# Save the DataFrame to a CSV file\n",
    "scaled_compliance_scores_df.to_csv(\"scaled_compliance_scores_24mar.csv\", index=False)"
   ]
  },
  {
   "cell_type": "code",
   "execution_count": 2,
   "id": "5ab5d086",
   "metadata": {},
   "outputs": [
    {
     "data": {
      "text/plain": [
       "{'SECEnforcementAction': 0.15065539343605033,\n",
       " 'FTCEnforcementAction': 0.16816785699154507,\n",
       " 'AnyDataBreachCasesinlast3years': 0.12390027565761219,\n",
       " 'CompliancewithDataProtectionLaws': 0.14384198330938763,\n",
       " 'ComplianceTrainingProgramsforemployees': 0.1273298517532375,\n",
       " 'IRP': 0.11535056680820294,\n",
       " 'InternalComplianceRiskAssessment': 0.09446446531689394,\n",
       " 'RiskAssessmentbyexternalAuditors': 0.07628960672707041}"
      ]
     },
     "execution_count": 2,
     "metadata": {},
     "output_type": "execute_result"
    }
   ],
   "source": [
    "weights"
   ]
  },
  {
   "cell_type": "code",
   "execution_count": null,
   "id": "79ef7c9f",
   "metadata": {},
   "outputs": [],
   "source": []
  }
 ],
 "metadata": {
  "kernelspec": {
   "display_name": "Python 3 (ipykernel)",
   "language": "python",
   "name": "python3"
  },
  "language_info": {
   "codemirror_mode": {
    "name": "ipython",
    "version": 3
   },
   "file_extension": ".py",
   "mimetype": "text/x-python",
   "name": "python",
   "nbconvert_exporter": "python",
   "pygments_lexer": "ipython3",
   "version": "3.11.4"
  }
 },
 "nbformat": 4,
 "nbformat_minor": 5
}
