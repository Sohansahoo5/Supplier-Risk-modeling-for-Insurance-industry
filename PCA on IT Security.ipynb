{
 "cells": [
  {
   "cell_type": "code",
   "execution_count": 6,
   "id": "0bebec07",
   "metadata": {},
   "outputs": [],
   "source": [
    "import pandas as pd\n",
    "import numpy as np\n",
    "from sklearn.decomposition import PCA\n",
    "from sklearn.preprocessing import StandardScaler\n",
    "import re\n",
    "\n",
    "# Read data from Excel file\n",
    "data = pd.read_excel(\"IT_Sec_Dataset_Dummy vCompany_Level.xlsx\")\n",
    "\n",
    "# Clean up column names\n",
    "data.columns = [re.sub(r'\\W+', '', col) for col in data.columns]\n",
    "\n",
    "# Separate 'Company' column and feature columns\n",
    "companies = data['Company']\n",
    "features = data.drop(columns=['Company'])\n",
    "\n",
    "# Step 1: Standardize the feature data\n",
    "scaler = StandardScaler()\n",
    "features_standardized = scaler.fit_transform(features)\n",
    "\n",
    "# Step 2: Fit the PCA model\n",
    "pca = PCA(n_components=features.shape[1])  # Set the number of components equal to the number of features\n",
    "pca.fit(features_standardized)\n",
    "\n",
    "# Step 3: Extract the principal components and their corresponding weights\n",
    "principal_components = pca.components_\n",
    "explained_variance_ratio = pca.explained_variance_ratio_\n",
    "\n",
    "# Calculate average weights for each feature\n",
    "average_weights = np.abs(principal_components).mean(axis=0) * np.sqrt(explained_variance_ratio)\n",
    "\n",
    "# Normalize weights so that the sum equals 1\n",
    "normalized_weights = average_weights / np.sum(average_weights)\n",
    "\n",
    "# Define weights for each variable based on feature importance scores\n",
    "weights = {}\n",
    "for i, column in enumerate(features.columns):\n",
    "    weights[column] = normalized_weights[i]\n",
    "\n",
    "# Define conditional mappings for compliance scoring based on variable values\n",
    "conditional_mappings = {\n",
    "    'AssetManagementProcess': lambda value: 0 if value == 0 else 1,\n",
    "    'Removablemediapolicy': lambda value: 0 if value == 0 else 1,\n",
    "    'AccessControlPolicy': lambda value: 0 if value == 0 else 1,\n",
    "    'WirelessNetworkSecurityProtocol': lambda value: 0 if value == 0 else 1,\n",
    "    'AutomatedMalwareMonitoring': lambda value: 0 if value == 0 else 1,\n",
    "    'DataExfiltrationpreventionprocess': lambda value: 0 if value == 0 else 1,\n",
    "    'Remotenetworkaccesscontrol': lambda value: 0 if value == 0 else 1,\n",
    "}\n",
    "\n",
    "# Calculate ITsec score for each company\n",
    "ITsec_scores = {}\n",
    "for i, row in data.iterrows():\n",
    "    company = row['Company']\n",
    "    score = 0\n",
    "    for column in features.columns:\n",
    "        # Apply conditional mapping to adjust compliance score based on variable value\n",
    "        score += weights[column] * conditional_mappings[column](row[column])\n",
    "    # Ensure the score is a single value\n",
    "    ITsec_scores[company] = score\n",
    "\n",
    "# Reverse and scale the scores\n",
    "scaled_ITsec_scores = {company: (1 - score) * 100 for company, score in ITsec_scores.items()}\n",
    "\n",
    "# Create a DataFrame from the scaled_ITsec_scores dictionary\n",
    "scaled_ITsec_scores_df = pd.DataFrame(list(scaled_ITsec_scores.items()), columns=['Company', 'Scaled ITsec Score'])\n",
    "\n",
    "# Save the DataFrame to a CSV file\n",
    "scaled_ITsec_scores_df.to_csv(\"scaled_ITsec_scores_24mar.csv\", index=False)"
   ]
  },
  {
   "cell_type": "code",
   "execution_count": 7,
   "id": "77f4b808",
   "metadata": {},
   "outputs": [
    {
     "data": {
      "text/plain": [
       "{'AssetManagementProcess': 0.18504185691230945,\n",
       " 'Removablemediapolicy': 0.1744800197736679,\n",
       " 'AccessControlPolicy': 0.15310257493671128,\n",
       " 'WirelessNetworkSecurityProtocol': 0.14409323946144964,\n",
       " 'AutomatedMalwareMonitoring': 0.12620792135754835,\n",
       " 'DataExfiltrationpreventionprocess': 0.11974925990189103,\n",
       " 'Remotenetworkaccesscontrol': 0.09732512765642234}"
      ]
     },
     "execution_count": 7,
     "metadata": {},
     "output_type": "execute_result"
    }
   ],
   "source": [
    "weights"
   ]
  },
  {
   "cell_type": "code",
   "execution_count": null,
   "id": "9d95ea9a",
   "metadata": {},
   "outputs": [],
   "source": []
  }
 ],
 "metadata": {
  "kernelspec": {
   "display_name": "Python 3 (ipykernel)",
   "language": "python",
   "name": "python3"
  },
  "language_info": {
   "codemirror_mode": {
    "name": "ipython",
    "version": 3
   },
   "file_extension": ".py",
   "mimetype": "text/x-python",
   "name": "python",
   "nbconvert_exporter": "python",
   "pygments_lexer": "ipython3",
   "version": "3.11.4"
  }
 },
 "nbformat": 4,
 "nbformat_minor": 5
}
